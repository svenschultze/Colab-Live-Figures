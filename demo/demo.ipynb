{
  "nbformat": 4,
  "nbformat_minor": 0,
  "metadata": {
    "colab": {
      "name": "Colab Live Figures Demo.ipynb",
      "provenance": [],
      "collapsed_sections": [],
      "authorship_tag": "ABX9TyNNdWU9nSXXVvuT9G8vDxHR",
      "include_colab_link": true
    },
    "kernelspec": {
      "name": "python3",
      "display_name": "Python 3"
    }
  },
  "cells": [
    {
      "cell_type": "markdown",
      "metadata": {
        "id": "view-in-github",
        "colab_type": "text"
      },
      "source": [
        "<a href=\"https://colab.research.google.com/github/svenschultze/Colab-Live-Figures/blob/main/demo/demo.ipynb\" target=\"_parent\"><img src=\"https://colab.research.google.com/assets/colab-badge.svg\" alt=\"Open In Colab\"/></a>"
      ]
    },
    {
      "cell_type": "code",
      "metadata": {
        "id": "QD5_Rt1WC7uU",
        "outputId": "006e968a-deb0-464f-d936-c0df0156a6e0",
        "colab": {
          "base_uri": "https://localhost:8080/"
        }
      },
      "source": [
        "!pip install -q git+https://github.com/svenschultze/Colab-Live-Figures"
      ],
      "execution_count": 1,
      "outputs": [
        {
          "output_type": "stream",
          "text": [
            "  Building wheel for colab-live-figures (setup.py) ... \u001b[?25l\u001b[?25hdone\n"
          ],
          "name": "stdout"
        }
      ]
    },
    {
      "cell_type": "code",
      "metadata": {
        "id": "oPdmdjCFC-AI"
      },
      "source": [
        "import live\n",
        "import time\n",
        "import numpy as np"
      ],
      "execution_count": 2,
      "outputs": []
    },
    {
      "cell_type": "code",
      "metadata": {
        "id": "Jz-xfLCfC_hr",
        "outputId": "4e4d84be-613f-4c0d-de2c-8d0d5110d43e",
        "colab": {
          "base_uri": "https://localhost:8080/",
          "height": 598
        }
      },
      "source": [
        "for i in range(10):\n",
        "    img = np.random.randint(0, 255, (15, 15, 3))\n",
        "    live.imshow(img)\n",
        "    time.sleep(.5)"
      ],
      "execution_count": 3,
      "outputs": [
        {
          "output_type": "display_data",
          "data": {
            "text/html": [
              "<script src=\"https://cdn.jsdelivr.net/npm/vue@2\"></script>\n",
              "\n",
              "<div id=\"app\">\n",
              "    <img v-if=\"message\" :src=\"'data:image/jpg;base64,' + message\">\n",
              "    <p v-else>Listening...</p>\n",
              "</div>\n",
              "\n",
              "<style>\n",
              "    #app img {\n",
              "        image-rendering: pixelated;\n",
              "        width: 30%;\n",
              "    }\n",
              "</style>\n",
              "\n",
              "<script>\n",
              "    const listenerChannel = new BroadcastChannel('Figure0');\n",
              "\n",
              "    new Vue({\n",
              "        el: '#app',\n",
              "        data: {\n",
              "            message: ''\n",
              "        },\n",
              "        methods: {\n",
              "            onmessage(msg) {\n",
              "                this.message = msg.data\n",
              "            }\n",
              "        },\n",
              "        created() {\n",
              "            listenerChannel.onmessage = this.onmessage\n",
              "        }\n",
              "    })\n",
              "</script>"
            ],
            "text/plain": [
              "<IPython.core.display.HTML object>"
            ]
          },
          "metadata": {
            "tags": []
          }
        },
        {
          "output_type": "display_data",
          "data": {
            "application/javascript": [
              "const senderChannel = new BroadcastChannel('Figure0');\n",
              "senderChannel.postMessage('/9j/4AAQSkZJRgABAQAAAQABAAD/2wBDAAIBAQEBAQIBAQECAgICAgQDAgICAgUEBAMEBgUGBgYFBgYGBwkIBgcJBwYGCAsICQoKCgoKBggLDAsKDAkKCgr/2wBDAQICAgICAgUDAwUKBwYHCgoKCgoKCgoKCgoKCgoKCgoKCgoKCgoKCgoKCgoKCgoKCgoKCgoKCgoKCgoKCgoKCgr/wAARCAAPAA8DASIAAhEBAxEB/8QAHwAAAQUBAQEBAQEAAAAAAAAAAAECAwQFBgcICQoL/8QAtRAAAgEDAwIEAwUFBAQAAAF9AQIDAAQRBRIhMUEGE1FhByJxFDKBkaEII0KxwRVS0fAkM2JyggkKFhcYGRolJicoKSo0NTY3ODk6Q0RFRkdISUpTVFVWV1hZWmNkZWZnaGlqc3R1dnd4eXqDhIWGh4iJipKTlJWWl5iZmqKjpKWmp6ipqrKztLW2t7i5usLDxMXGx8jJytLT1NXW19jZ2uHi4+Tl5ufo6erx8vP09fb3+Pn6/8QAHwEAAwEBAQEBAQEBAQAAAAAAAAECAwQFBgcICQoL/8QAtREAAgECBAQDBAcFBAQAAQJ3AAECAxEEBSExBhJBUQdhcRMiMoEIFEKRobHBCSMzUvAVYnLRChYkNOEl8RcYGRomJygpKjU2Nzg5OkNERUZHSElKU1RVVldYWVpjZGVmZ2hpanN0dXZ3eHl6goOEhYaHiImKkpOUlZaXmJmaoqOkpaanqKmqsrO0tba3uLm6wsPExcbHyMnK0tPU1dbX2Nna4uPk5ebn6Onq8vP09fb3+Pn6/9oADAMBAAIRAxEAPwDWu9LlvJ/EHivVte1HRLzXLOPTvF2iS3ZnkksoGuZLK5e71UX1vdIY7WRppJ4fMX7Pcu0x8yMT4WneNfGX2Pwxo17Y61YaXp2qXW3wzoGkTaTb32rwwTWt5MZJ4YGN5nc3l2TsiQxzxv8AZ/LaCXT0H4TXXhbwdpGseMYb3UwunXOhWz6/PFqdrFdXVzDqFprVvbhoUiRLoW4e0VIRiWWZFWbIfkvFmpN8IPgF448R/BzUb/QviJos8Opyt4T8QXdor6ANQg0tTaXT7RMFnlRAbuFZ/K3qVYhZRwYDF1M4xKwWHqQxM5TdKny/vPaVGlTlCnJ+0kvecYNKpaKmnNqVnH019VeXyw9aVStFyUIK8qdPk5G5J+zqqUJSik8RNVIVqFKLlP2c5whL/9k=');"
            ],
            "text/plain": [
              "<IPython.core.display.Javascript object>"
            ]
          },
          "metadata": {
            "tags": []
          }
        },
        {
          "output_type": "display_data",
          "data": {
            "application/javascript": [
              "const senderChannel = new BroadcastChannel('Figure0');\n",
              "senderChannel.postMessage('/9j/4AAQSkZJRgABAQAAAQABAAD/2wBDAAIBAQEBAQIBAQECAgICAgQDAgICAgUEBAMEBgUGBgYFBgYGBwkIBgcJBwYGCAsICQoKCgoKBggLDAsKDAkKCgr/2wBDAQICAgICAgUDAwUKBwYHCgoKCgoKCgoKCgoKCgoKCgoKCgoKCgoKCgoKCgoKCgoKCgoKCgoKCgoKCgoKCgoKCgr/wAARCAAPAA8DASIAAhEBAxEB/8QAHwAAAQUBAQEBAQEAAAAAAAAAAAECAwQFBgcICQoL/8QAtRAAAgEDAwIEAwUFBAQAAAF9AQIDAAQRBRIhMUEGE1FhByJxFDKBkaEII0KxwRVS0fAkM2JyggkKFhcYGRolJicoKSo0NTY3ODk6Q0RFRkdISUpTVFVWV1hZWmNkZWZnaGlqc3R1dnd4eXqDhIWGh4iJipKTlJWWl5iZmqKjpKWmp6ipqrKztLW2t7i5usLDxMXGx8jJytLT1NXW19jZ2uHi4+Tl5ufo6erx8vP09fb3+Pn6/8QAHwEAAwEBAQEBAQEBAQAAAAAAAAECAwQFBgcICQoL/8QAtREAAgECBAQDBAcFBAQAAQJ3AAECAxEEBSExBhJBUQdhcRMiMoEIFEKRobHBCSMzUvAVYnLRChYkNOEl8RcYGRomJygpKjU2Nzg5OkNERUZHSElKU1RVVldYWVpjZGVmZ2hpanN0dXZ3eHl6goOEhYaHiImKkpOUlZaXmJmaoqOkpaanqKmqsrO0tba3uLm6wsPExcbHyMnK0tPU1dbX2Nna4uPk5ebn6Onq8vP09fb3+Pn6/9oADAMBAAIRAxEAPwDH8Q6j8TL7W4viNqnhHw/pfh/+wLGS/OoqLSwg03TGQpayx2qKbcrYalHFHbCNZFW1uN9ndW12Xli1nVfhn4D+IN/49H/COahLLoMlillaRaXeabBc/abSRRp0YuobKzh2/bopZ5dQgkmmsvLO+RTbvh6tovwUtPH1t8OPDNvPrng3w5fzavp+n+OriSBLWCxk0iymux/ZsSmRTFBPH5LKAsVyVWFgzxr1fgH4qfFnxR4l8LaNbL4emmhWYSazcz3M8lvcvZi7ntoEeNHSGS1utIkSISiCOOOMKkcm+2ttMMs1w+Mp14zcKteMLQUqdKUZSlC/u+0nVc7WjJ81OcVKmoxpKUfZ92a0njMwxcMPUp05zk1ClCV1Dmm5zpJQ9p+8jJc0Icl5qUkueNO1P//Z');"
            ],
            "text/plain": [
              "<IPython.core.display.Javascript object>"
            ]
          },
          "metadata": {
            "tags": []
          }
        },
        {
          "output_type": "display_data",
          "data": {
            "application/javascript": [
              "const senderChannel = new BroadcastChannel('Figure0');\n",
              "senderChannel.postMessage('/9j/4AAQSkZJRgABAQAAAQABAAD/2wBDAAIBAQEBAQIBAQECAgICAgQDAgICAgUEBAMEBgUGBgYFBgYGBwkIBgcJBwYGCAsICQoKCgoKBggLDAsKDAkKCgr/2wBDAQICAgICAgUDAwUKBwYHCgoKCgoKCgoKCgoKCgoKCgoKCgoKCgoKCgoKCgoKCgoKCgoKCgoKCgoKCgoKCgoKCgr/wAARCAAPAA8DASIAAhEBAxEB/8QAHwAAAQUBAQEBAQEAAAAAAAAAAAECAwQFBgcICQoL/8QAtRAAAgEDAwIEAwUFBAQAAAF9AQIDAAQRBRIhMUEGE1FhByJxFDKBkaEII0KxwRVS0fAkM2JyggkKFhcYGRolJicoKSo0NTY3ODk6Q0RFRkdISUpTVFVWV1hZWmNkZWZnaGlqc3R1dnd4eXqDhIWGh4iJipKTlJWWl5iZmqKjpKWmp6ipqrKztLW2t7i5usLDxMXGx8jJytLT1NXW19jZ2uHi4+Tl5ufo6erx8vP09fb3+Pn6/8QAHwEAAwEBAQEBAQEBAQAAAAAAAAECAwQFBgcICQoL/8QAtREAAgECBAQDBAcFBAQAAQJ3AAECAxEEBSExBhJBUQdhcRMiMoEIFEKRobHBCSMzUvAVYnLRChYkNOEl8RcYGRomJygpKjU2Nzg5OkNERUZHSElKU1RVVldYWVpjZGVmZ2hpanN0dXZ3eHl6goOEhYaHiImKkpOUlZaXmJmaoqOkpaanqKmqsrO0tba3uLm6wsPExcbHyMnK0tPU1dbX2Nna4uPk5ebn6Onq8vP09fb3+Pn6/9oADAMBAAIRAxEAPwBNY+FHiK18U2/grxl4Fh0HQ7aztrPXtS1No7pNRnkvJJbey/s6zLrqCQyv5ogiuhNNNG0skCRLaonU6F4T8Xaz8SdC8BeLPC3h7X9Kt7eC11+DVNVi03SfDsdrpax2/wDaEKzJJPPcbbWVt8fkySTWcrJbXEH2ePifC/gbxF8KLfTfC+laW6391cz6fp/huVrZLB47a/tVDLJOL7Y9jEQq742G62na38uR4pnx/wBq346/Cz4NXGnLb/DbVtI+12v9u+GtumWUd5a2N/baeIWW5sLmGVbkiC6hkV5WHkwIRMC8kU/dga/Emb5p9Wow91KStd88XKTkqsYJ0OXn9xwlKahKryxUv3TjNZnSy2GEdFKc51m5RSjCo63NU9k5RdSFRuU/YVvcl7TmcJKUpuDqS//Z');"
            ],
            "text/plain": [
              "<IPython.core.display.Javascript object>"
            ]
          },
          "metadata": {
            "tags": []
          }
        },
        {
          "output_type": "display_data",
          "data": {
            "application/javascript": [
              "const senderChannel = new BroadcastChannel('Figure0');\n",
              "senderChannel.postMessage('/9j/4AAQSkZJRgABAQAAAQABAAD/2wBDAAIBAQEBAQIBAQECAgICAgQDAgICAgUEBAMEBgUGBgYFBgYGBwkIBgcJBwYGCAsICQoKCgoKBggLDAsKDAkKCgr/2wBDAQICAgICAgUDAwUKBwYHCgoKCgoKCgoKCgoKCgoKCgoKCgoKCgoKCgoKCgoKCgoKCgoKCgoKCgoKCgoKCgoKCgr/wAARCAAPAA8DASIAAhEBAxEB/8QAHwAAAQUBAQEBAQEAAAAAAAAAAAECAwQFBgcICQoL/8QAtRAAAgEDAwIEAwUFBAQAAAF9AQIDAAQRBRIhMUEGE1FhByJxFDKBkaEII0KxwRVS0fAkM2JyggkKFhcYGRolJicoKSo0NTY3ODk6Q0RFRkdISUpTVFVWV1hZWmNkZWZnaGlqc3R1dnd4eXqDhIWGh4iJipKTlJWWl5iZmqKjpKWmp6ipqrKztLW2t7i5usLDxMXGx8jJytLT1NXW19jZ2uHi4+Tl5ufo6erx8vP09fb3+Pn6/8QAHwEAAwEBAQEBAQEBAQAAAAAAAAECAwQFBgcICQoL/8QAtREAAgECBAQDBAcFBAQAAQJ3AAECAxEEBSExBhJBUQdhcRMiMoEIFEKRobHBCSMzUvAVYnLRChYkNOEl8RcYGRomJygpKjU2Nzg5OkNERUZHSElKU1RVVldYWVpjZGVmZ2hpanN0dXZ3eHl6goOEhYaHiImKkpOUlZaXmJmaoqOkpaanqKmqsrO0tba3uLm6wsPExcbHyMnK0tPU1dbX2Nna4uPk5ebn6Onq8vP09fb3+Pn6/9oADAMBAAIRAxEAPwB+k/FTV/Cmm6Z4d1vwsftWlaNqVvqOiz6Y+o6UJI72Wzvrq5uvJFrfpb2rqs/MUgu7uXdMI3jt4cXwf43v9L8T6j458PeK7rxlcLrWoPqGi67rl1qFtpaQXU+nf2mXt7qHUXnkZIrfcQx2HbKdqR46r9oLVtPv/Hg+EGr6lrkC2mq3iaRqZ1OQ2d5JJpupPb3RRHEkkDSXQilguo3mYNfbppEvZhJxPir4K/FH4ca1cfs/+I9Du/DvhG21a5Gna3oHiSztzc+dNcTEyGCzNw6b7Py1SYSBPJUfNtS4fycJRyqU51+WEKs/3jnKrSdCa56rd6s5ONf2L5XCKrwqU4KUHOVSEnL3ssyfE4TD4fKMTFQq8nPOlaT9qq9a1qlOlCq0q1WUeWdKnzzlOLc5whBS/9k=');"
            ],
            "text/plain": [
              "<IPython.core.display.Javascript object>"
            ]
          },
          "metadata": {
            "tags": []
          }
        },
        {
          "output_type": "display_data",
          "data": {
            "application/javascript": [
              "const senderChannel = new BroadcastChannel('Figure0');\n",
              "senderChannel.postMessage('/9j/4AAQSkZJRgABAQAAAQABAAD/2wBDAAIBAQEBAQIBAQECAgICAgQDAgICAgUEBAMEBgUGBgYFBgYGBwkIBgcJBwYGCAsICQoKCgoKBggLDAsKDAkKCgr/2wBDAQICAgICAgUDAwUKBwYHCgoKCgoKCgoKCgoKCgoKCgoKCgoKCgoKCgoKCgoKCgoKCgoKCgoKCgoKCgoKCgoKCgr/wAARCAAPAA8DASIAAhEBAxEB/8QAHwAAAQUBAQEBAQEAAAAAAAAAAAECAwQFBgcICQoL/8QAtRAAAgEDAwIEAwUFBAQAAAF9AQIDAAQRBRIhMUEGE1FhByJxFDKBkaEII0KxwRVS0fAkM2JyggkKFhcYGRolJicoKSo0NTY3ODk6Q0RFRkdISUpTVFVWV1hZWmNkZWZnaGlqc3R1dnd4eXqDhIWGh4iJipKTlJWWl5iZmqKjpKWmp6ipqrKztLW2t7i5usLDxMXGx8jJytLT1NXW19jZ2uHi4+Tl5ufo6erx8vP09fb3+Pn6/8QAHwEAAwEBAQEBAQEBAQAAAAAAAAECAwQFBgcICQoL/8QAtREAAgECBAQDBAcFBAQAAQJ3AAECAxEEBSExBhJBUQdhcRMiMoEIFEKRobHBCSMzUvAVYnLRChYkNOEl8RcYGRomJygpKjU2Nzg5OkNERUZHSElKU1RVVldYWVpjZGVmZ2hpanN0dXZ3eHl6goOEhYaHiImKkpOUlZaXmJmaoqOkpaanqKmqsrO0tba3uLm6wsPExcbHyMnK0tPU1dbX2Nna4uPk5ebn6Onq8vP09fb3+Pn6/9oADAMBAAIRAxEAPwBPhR4u+OmqfD3QW8I/DGyOqWerXepWBumt7SK+aONbeUPcW7W8qqJwGudkDzGaGfyd86XMKReBpH0bX18aH4P+H9BsNY0ayGiweNfsOmSWkkzXl3KbGdki+1bGaYTuLC3xJqBRY1iigaqfhnxD4l1ez8J/FDwDommanYfESe1htLnVNVkN3fXDCTSdUhNnJbG2t7Vg9qJVt5LSYTfaFimnt1herfxX8JQ+ANYg0HRPh/Cmm+B/GWpxahaSSW+q2GixJaQW+n2htyunyXCtbXazKRNKyPcF5ZZJXufMnh1YPFTjTjUpwo15SlOpJtqlOD9mrSbUYU3Ui6EZuM5Rk1Hkk1aV1csxOZZ7i8DSw8FVxV4U705aRdSam3yy52qVT2kXNexVOquRy5nGC//Z');"
            ],
            "text/plain": [
              "<IPython.core.display.Javascript object>"
            ]
          },
          "metadata": {
            "tags": []
          }
        },
        {
          "output_type": "display_data",
          "data": {
            "application/javascript": [
              "const senderChannel = new BroadcastChannel('Figure0');\n",
              "senderChannel.postMessage('/9j/4AAQSkZJRgABAQAAAQABAAD/2wBDAAIBAQEBAQIBAQECAgICAgQDAgICAgUEBAMEBgUGBgYFBgYGBwkIBgcJBwYGCAsICQoKCgoKBggLDAsKDAkKCgr/2wBDAQICAgICAgUDAwUKBwYHCgoKCgoKCgoKCgoKCgoKCgoKCgoKCgoKCgoKCgoKCgoKCgoKCgoKCgoKCgoKCgoKCgr/wAARCAAPAA8DASIAAhEBAxEB/8QAHwAAAQUBAQEBAQEAAAAAAAAAAAECAwQFBgcICQoL/8QAtRAAAgEDAwIEAwUFBAQAAAF9AQIDAAQRBRIhMUEGE1FhByJxFDKBkaEII0KxwRVS0fAkM2JyggkKFhcYGRolJicoKSo0NTY3ODk6Q0RFRkdISUpTVFVWV1hZWmNkZWZnaGlqc3R1dnd4eXqDhIWGh4iJipKTlJWWl5iZmqKjpKWmp6ipqrKztLW2t7i5usLDxMXGx8jJytLT1NXW19jZ2uHi4+Tl5ufo6erx8vP09fb3+Pn6/8QAHwEAAwEBAQEBAQEBAQAAAAAAAAECAwQFBgcICQoL/8QAtREAAgECBAQDBAcFBAQAAQJ3AAECAxEEBSExBhJBUQdhcRMiMoEIFEKRobHBCSMzUvAVYnLRChYkNOEl8RcYGRomJygpKjU2Nzg5OkNERUZHSElKU1RVVldYWVpjZGVmZ2hpanN0dXZ3eHl6goOEhYaHiImKkpOUlZaXmJmaoqOkpaanqKmqsrO0tba3uLm6wsPExcbHyMnK0tPU1dbX2Nna4uPk5ebn6Onq8vP09fb3+Pn6/9oADAMBAAIRAxEAPwCvBqF5afDgeDdGTW10vw/qG7VdB03QrGe7kuXSa3nWye7jhmvtSit4tOt2eSK2NnaKS7q80W7F8MeGPGfjfXdfj8G/HLRfBmjxaM2meGrDxNqkWoWmqwy30FzPdW1pHb3SywWy2VjYRTmLyJo4RKjQTpPBT9W0u5+BNxd/CXxz4om8Hya5b2XhyOwbxHdS6XbwPay3F25FpaStdXDWlvH58ois3M9w7QzfvJ92B408ceKPG/wn0vRPi38bZ/7RvtE0XUU8ceJdY1DVbGaVIrlZpBBc217Kkn79LVT5GHEEj4txj7Rg6sM9ws6GHqx5pt1FK0ajtacnUdD2XNKUoNtpvlqcrcozV5L1MBnFOr/skoyoRxD56SqycoOFJJydSpOMo1aVGnzKU17TW1/dk5H/2Q==');"
            ],
            "text/plain": [
              "<IPython.core.display.Javascript object>"
            ]
          },
          "metadata": {
            "tags": []
          }
        },
        {
          "output_type": "display_data",
          "data": {
            "application/javascript": [
              "const senderChannel = new BroadcastChannel('Figure0');\n",
              "senderChannel.postMessage('/9j/4AAQSkZJRgABAQAAAQABAAD/2wBDAAIBAQEBAQIBAQECAgICAgQDAgICAgUEBAMEBgUGBgYFBgYGBwkIBgcJBwYGCAsICQoKCgoKBggLDAsKDAkKCgr/2wBDAQICAgICAgUDAwUKBwYHCgoKCgoKCgoKCgoKCgoKCgoKCgoKCgoKCgoKCgoKCgoKCgoKCgoKCgoKCgoKCgoKCgr/wAARCAAPAA8DASIAAhEBAxEB/8QAHwAAAQUBAQEBAQEAAAAAAAAAAAECAwQFBgcICQoL/8QAtRAAAgEDAwIEAwUFBAQAAAF9AQIDAAQRBRIhMUEGE1FhByJxFDKBkaEII0KxwRVS0fAkM2JyggkKFhcYGRolJicoKSo0NTY3ODk6Q0RFRkdISUpTVFVWV1hZWmNkZWZnaGlqc3R1dnd4eXqDhIWGh4iJipKTlJWWl5iZmqKjpKWmp6ipqrKztLW2t7i5usLDxMXGx8jJytLT1NXW19jZ2uHi4+Tl5ufo6erx8vP09fb3+Pn6/8QAHwEAAwEBAQEBAQEBAQAAAAAAAAECAwQFBgcICQoL/8QAtREAAgECBAQDBAcFBAQAAQJ3AAECAxEEBSExBhJBUQdhcRMiMoEIFEKRobHBCSMzUvAVYnLRChYkNOEl8RcYGRomJygpKjU2Nzg5OkNERUZHSElKU1RVVldYWVpjZGVmZ2hpanN0dXZ3eHl6goOEhYaHiImKkpOUlZaXmJmaoqOkpaanqKmqsrO0tba3uLm6wsPExcbHyMnK0tPU1dbX2Nna4uPk5ebn6Onq8vP09fb3+Pn6/9oADAMBAAIRAxEAPwDL+JuhfFDWvDZ8O634Q8aX3h3QfEQ02x1bUtFttH16FbbThbyyw669u9sHuG0cbr7dKsciqo8ozqYdHxt8K/Gf7T2k+J/Btnp+s6n4n8Va5ca1puva4yaPZ2NjBevG1pYzSwRzW6QhoBn7M2RfuGeN7tvM7H42fCX4mfFPwXqnxn8O2t/Y61rOuaBqGm6vpHiQW2qCwjlVVXzGUm2mhvdUltsRTbUtpLeKMypFNJJ5T4g+Ovw6+DN43x51nULzVNJ0LUWeXUdZtbme7gu7r7RFcGwaS6nDMGkt4y08SD7OSD9omxPF0VM8xeOryx0pKjyK9JU58vvKNKXIv3rjCU6lnGcfYVm6SqScmpRj5TxGNzGksPl9NqrUqNUqjaXJCFGq+dqUVRcbxlNyk5QjChUkqkvYT9n/AP/Z');"
            ],
            "text/plain": [
              "<IPython.core.display.Javascript object>"
            ]
          },
          "metadata": {
            "tags": []
          }
        },
        {
          "output_type": "display_data",
          "data": {
            "application/javascript": [
              "const senderChannel = new BroadcastChannel('Figure0');\n",
              "senderChannel.postMessage('/9j/4AAQSkZJRgABAQAAAQABAAD/2wBDAAIBAQEBAQIBAQECAgICAgQDAgICAgUEBAMEBgUGBgYFBgYGBwkIBgcJBwYGCAsICQoKCgoKBggLDAsKDAkKCgr/2wBDAQICAgICAgUDAwUKBwYHCgoKCgoKCgoKCgoKCgoKCgoKCgoKCgoKCgoKCgoKCgoKCgoKCgoKCgoKCgoKCgoKCgr/wAARCAAPAA8DASIAAhEBAxEB/8QAHwAAAQUBAQEBAQEAAAAAAAAAAAECAwQFBgcICQoL/8QAtRAAAgEDAwIEAwUFBAQAAAF9AQIDAAQRBRIhMUEGE1FhByJxFDKBkaEII0KxwRVS0fAkM2JyggkKFhcYGRolJicoKSo0NTY3ODk6Q0RFRkdISUpTVFVWV1hZWmNkZWZnaGlqc3R1dnd4eXqDhIWGh4iJipKTlJWWl5iZmqKjpKWmp6ipqrKztLW2t7i5usLDxMXGx8jJytLT1NXW19jZ2uHi4+Tl5ufo6erx8vP09fb3+Pn6/8QAHwEAAwEBAQEBAQEBAQAAAAAAAAECAwQFBgcICQoL/8QAtREAAgECBAQDBAcFBAQAAQJ3AAECAxEEBSExBhJBUQdhcRMiMoEIFEKRobHBCSMzUvAVYnLRChYkNOEl8RcYGRomJygpKjU2Nzg5OkNERUZHSElKU1RVVldYWVpjZGVmZ2hpanN0dXZ3eHl6goOEhYaHiImKkpOUlZaXmJmaoqOkpaanqKmqsrO0tba3uLm6wsPExcbHyMnK0tPU1dbX2Nna4uPk5ebn6Onq8vP09fb3+Pn6/9oADAMBAAIRAxEAPwDF8NXnjD4EaDNb3Wo+I4rSKKXTpbfV/EMUIuLSNboie6svs91AzwS28C+dbwC2gikaeJiJJZ4Or1r4f+EPiMNf8CfDO3j1jxZbaSsuiW2s6S9mNIcXFh9st54tPW6nRooXhgSOG0ggClEOTa7IOl0zwz4z1lm8ReLfgFqmi2XgTQRo+oP4V8ZxajqBtIJ7e5s0j+1y20CvKrtM21VjjjtRAiRrcmO38p8Q/Hn4M/s56Pr914m8IXlxfaPc6hqt2ttrrzTGeO/s9Ie5ge5tJBbiYzGRnZp7iUNtlKYAXRY2nLHuklbERgq0qFKtBzlNR9pFwiqkFFuSlFTVWcpupBtpezmdeAp46tWwleVSqpxrqMqrnRpOM+aUOWc5z5Lwg4uKlzRirU1NQXs3/9k=');"
            ],
            "text/plain": [
              "<IPython.core.display.Javascript object>"
            ]
          },
          "metadata": {
            "tags": []
          }
        },
        {
          "output_type": "display_data",
          "data": {
            "application/javascript": [
              "const senderChannel = new BroadcastChannel('Figure0');\n",
              "senderChannel.postMessage('/9j/4AAQSkZJRgABAQAAAQABAAD/2wBDAAIBAQEBAQIBAQECAgICAgQDAgICAgUEBAMEBgUGBgYFBgYGBwkIBgcJBwYGCAsICQoKCgoKBggLDAsKDAkKCgr/2wBDAQICAgICAgUDAwUKBwYHCgoKCgoKCgoKCgoKCgoKCgoKCgoKCgoKCgoKCgoKCgoKCgoKCgoKCgoKCgoKCgoKCgr/wAARCAAPAA8DASIAAhEBAxEB/8QAHwAAAQUBAQEBAQEAAAAAAAAAAAECAwQFBgcICQoL/8QAtRAAAgEDAwIEAwUFBAQAAAF9AQIDAAQRBRIhMUEGE1FhByJxFDKBkaEII0KxwRVS0fAkM2JyggkKFhcYGRolJicoKSo0NTY3ODk6Q0RFRkdISUpTVFVWV1hZWmNkZWZnaGlqc3R1dnd4eXqDhIWGh4iJipKTlJWWl5iZmqKjpKWmp6ipqrKztLW2t7i5usLDxMXGx8jJytLT1NXW19jZ2uHi4+Tl5ufo6erx8vP09fb3+Pn6/8QAHwEAAwEBAQEBAQEBAQAAAAAAAAECAwQFBgcICQoL/8QAtREAAgECBAQDBAcFBAQAAQJ3AAECAxEEBSExBhJBUQdhcRMiMoEIFEKRobHBCSMzUvAVYnLRChYkNOEl8RcYGRomJygpKjU2Nzg5OkNERUZHSElKU1RVVldYWVpjZGVmZ2hpanN0dXZ3eHl6goOEhYaHiImKkpOUlZaXmJmaoqOkpaanqKmqsrO0tba3uLm6wsPExcbHyMnK0tPU1dbX2Nna4uPk5ebn6Onq8vP09fb3+Pn6/9oADAMBAAIRAxEAPwDivDWu6N4s+At54Z/sjXrTRNA1e2F94Rt5orLUtK0mK2L+SkVpcS+dKLgJJJbNCZIS/lxYgt23+reFX1XQPF1vN8Xj4ltvsfia8mkvND1fU9QluUS3nsI40gjd477UUlguUmNwryCGCWRbu7WFBEzwxPq+i/E46V8T9BsbDWvFVhq9vpF14YsEslt57Oa4sp5xdPNdXBhgklKbgsNx5NnZtCzPFJHPx198VtKsfi7b2XwR+IkGvatd69q+paMfFOkm6a3gjuL6KO2WSe3XFrDa3RQKoibzw7bJFkMleHmmOyvH08w+t13LkpT9o0pOEI3nGcpe1jSanzQhTq3oyk58qkpckHV9TLcJSc4ZdJTrUHJznSimryrNVFGKh7WVKNSnFqEVzTqVIzpewlPmcf/Z');"
            ],
            "text/plain": [
              "<IPython.core.display.Javascript object>"
            ]
          },
          "metadata": {
            "tags": []
          }
        },
        {
          "output_type": "display_data",
          "data": {
            "application/javascript": [
              "const senderChannel = new BroadcastChannel('Figure0');\n",
              "senderChannel.postMessage('/9j/4AAQSkZJRgABAQAAAQABAAD/2wBDAAIBAQEBAQIBAQECAgICAgQDAgICAgUEBAMEBgUGBgYFBgYGBwkIBgcJBwYGCAsICQoKCgoKBggLDAsKDAkKCgr/2wBDAQICAgICAgUDAwUKBwYHCgoKCgoKCgoKCgoKCgoKCgoKCgoKCgoKCgoKCgoKCgoKCgoKCgoKCgoKCgoKCgoKCgr/wAARCAAPAA8DASIAAhEBAxEB/8QAHwAAAQUBAQEBAQEAAAAAAAAAAAECAwQFBgcICQoL/8QAtRAAAgEDAwIEAwUFBAQAAAF9AQIDAAQRBRIhMUEGE1FhByJxFDKBkaEII0KxwRVS0fAkM2JyggkKFhcYGRolJicoKSo0NTY3ODk6Q0RFRkdISUpTVFVWV1hZWmNkZWZnaGlqc3R1dnd4eXqDhIWGh4iJipKTlJWWl5iZmqKjpKWmp6ipqrKztLW2t7i5usLDxMXGx8jJytLT1NXW19jZ2uHi4+Tl5ufo6erx8vP09fb3+Pn6/8QAHwEAAwEBAQEBAQEBAQAAAAAAAAECAwQFBgcICQoL/8QAtREAAgECBAQDBAcFBAQAAQJ3AAECAxEEBSExBhJBUQdhcRMiMoEIFEKRobHBCSMzUvAVYnLRChYkNOEl8RcYGRomJygpKjU2Nzg5OkNERUZHSElKU1RVVldYWVpjZGVmZ2hpanN0dXZ3eHl6goOEhYaHiImKkpOUlZaXmJmaoqOkpaanqKmqsrO0tba3uLm6wsPExcbHyMnK0tPU1dbX2Nna4uPk5ebn6Onq8vP09fb3+Pn6/9oADAMBAAIRAxEAPwBl1dfsu/DLT9M8IePdP8UXWiWetiTUNO8QzLdarbSjSfsaPMXUJJdeZDNl0eTy2vCu3a0kFdDo1/4m+EfxYtr3w9YQQ2cmk6dZQ+HT4diutO163lsprhZYgi3sVhFDJE+yCOytiViVWjjNuUTjG+IPh3wlFKY/CFjpXxC8W6HZafceENQ04a0ks9vr8yautheTyraRsiWYiVbq1MiO9sYdQkigEaVNY+KXhDV/E+u/CHx3fv4mt7nxJPFeaF4r0y1MlqyvPdRaXJJ9luoJLqPLzM22WFYreKGK8cxBZt8NQrVMHNz56bjzOcpSl+6ow5V7WXPaPJGpFU1KT5HUT5ZpU5xjh9bwea5osFhKs506z3SVWTXtHCm6bjTirz9tSoNrVcnJCpGfJOp//9k=');"
            ],
            "text/plain": [
              "<IPython.core.display.Javascript object>"
            ]
          },
          "metadata": {
            "tags": []
          }
        }
      ]
    }
  ]
}